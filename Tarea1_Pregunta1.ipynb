{
  "nbformat": 4,
  "nbformat_minor": 0,
  "metadata": {
    "colab": {
      "provenance": [],
      "authorship_tag": "ABX9TyMeONMLvqg7YoznTM5lbieU",
      "include_colab_link": true
    },
    "kernelspec": {
      "name": "python3",
      "display_name": "Python 3"
    },
    "language_info": {
      "name": "python"
    }
  },
  "cells": [
    {
      "cell_type": "markdown",
      "metadata": {
        "id": "view-in-github",
        "colab_type": "text"
      },
      "source": [
        "<a href=\"https://colab.research.google.com/github/LucasRobles2323/Tarea1-MetodosNumericos/blob/main/Tarea1_Pregunta1.ipynb\" target=\"_parent\"><img src=\"https://colab.research.google.com/assets/colab-badge.svg\" alt=\"Open In Colab\"/></a>"
      ]
    },
    {
      "cell_type": "markdown",
      "source": [
        "**Pregunta 1:**\n",
        "\n",
        ">El método “divide y promedia”, es un método que data del 1700 a.C. (Babilonia), y fue una de las primeras algoritmos para aproximar la raíz cuadrada de cualquier numero positivo a y puede ser formulado\n",
        "de la siguiente manera:\n",
        "\n",
        "![imagen_2022-11-13_170522522.png](data:image/png;base64,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)\n",
        "\n",
        ">Escriba una función en Python que reciba como parámetros: a (número positivo del cual quiero la raíz),\n",
        "estimación inicial (use a/2), cantidad máxima de iteraciones y la tolerancia permitida (el error relativo\n",
        "aproximado). Como criterio de término de la ejecución considere la cantidad máxima de iteraciones o la\n",
        "tolerancia permitida. Muentre en una tabla el error relativo absoluto (como valor real la implementación\n",
        "de la raíz cuadrada de Python)y el error relativo aproximado (aproximaciones consecutivas) en cada\n",
        "iteración y luego grafique ambos errores por separado. Prueba con 2 valores que Ud. elija.\n"
      ],
      "metadata": {
        "id": "KAQnxWI8l3qc"
      }
    },
    {
      "cell_type": "code",
      "execution_count": 13,
      "metadata": {
        "colab": {
          "base_uri": "https://localhost:8080/"
        },
        "id": "a0Ft7af-CuwC",
        "outputId": "765d7b5c-2b29-44f7-a569-4919394416cb"
      },
      "outputs": [
        {
          "output_type": "stream",
          "name": "stdout",
          "text": [
            "ingrese un número positivo para su raíz\n",
            "6\n",
            "Ingrese cantidad máxima de iteraciones\n",
            "8\n",
            "--------------------------------------------\n",
            "   Error relativo aproximado   |  Error relativo absoluto\n",
            "0                       0.183503                 0.183503\n",
            "1                       0.387628                 0.387628\n",
            "2                       0.489690                 0.489690\n",
            "3                       0.540721                 0.540721\n",
            "4                       0.566236                 0.566236\n",
            "5                       0.578994                 0.578994\n",
            "6                       0.585373                 0.585373\n",
            "7                       0.588562                 0.588562\n"
          ]
        }
      ],
      "source": [
        "import numpy as np\n",
        "import math\n",
        "import pandas as pd\n",
        "\n",
        "def DivideYpromedia(initial, cantMax, errA, a):\n",
        "    I = [] # Arreglo de initial\n",
        "    Ea = [] # Arreglo de Errores aproximados\n",
        "    Eabs = [] # Arreglo de Errores absolutos\n",
        "    \n",
        "    trueValor = math.sqrt(a) # Valor real\n",
        "\n",
        "    for i in range(0, cantMax):\n",
        "      aux = initial \n",
        "\n",
        "      # Calculo de Divide y Promedia-----\n",
        "      initial = float(aux + (initial / aux)) # Calcula el numerador\n",
        "      initial = float(initial / 2) # Lo divide en 2, se completa la división\n",
        "      # ---------------------------------\n",
        "\n",
        "      # Calculo----------------------------------------------------\n",
        "       # El valor app queda como initial\n",
        "      error_relav = (trueValor - initial)/trueValor\n",
        "\n",
        "      # Llenado de arreglos\n",
        "      Ea.append(error_relav)\n",
        "      Eabs.append(abs(error_relav))\n",
        "\n",
        "      #------------------------------------------------------------\n",
        "\n",
        "      df = pd.DataFrame({'Error relativo aproximado   |': Ea,\n",
        "                         'Error relativo absoluto': Eabs })\n",
        "      \n",
        "    I.append(initial) # Arreglo de initials, para corroborar\n",
        "    return df\n",
        "\n",
        "\n",
        "# Zona de Input---------------------------------------------------------------\n",
        "print(\"ingrese un número positivo para su raíz\")\n",
        "a = float(input())\n",
        "initial = a / 2\n",
        "\n",
        "print(\"Ingrese cantidad máxima de iteraciones\")\n",
        "cantMax = int(input())\n",
        "\n",
        "df = DivideYpromedia(initial, cantMax, errA, a)\n",
        "\n",
        "print (\"--------------------------------------------\")\n",
        "print(df)"
      ]
    }
  ]
}