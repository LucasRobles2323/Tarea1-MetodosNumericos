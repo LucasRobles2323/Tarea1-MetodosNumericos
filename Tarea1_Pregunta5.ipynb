{
  "nbformat": 4,
  "nbformat_minor": 0,
  "metadata": {
    "colab": {
      "provenance": [],
      "collapsed_sections": [],
      "authorship_tag": "ABX9TyP0jxO5h1N3P/MMnIiHPZA7",
      "include_colab_link": true
    },
    "kernelspec": {
      "name": "python3",
      "display_name": "Python 3"
    },
    "language_info": {
      "name": "python"
    }
  },
  "cells": [
    {
      "cell_type": "markdown",
      "metadata": {
        "id": "view-in-github",
        "colab_type": "text"
      },
      "source": [
        "<a href=\"https://colab.research.google.com/github/LucasRobles2323/Tarea1-MetodosNumericos/blob/main/Tarea1_Pregunta5.ipynb\" target=\"_parent\"><img src=\"https://colab.research.google.com/assets/colab-badge.svg\" alt=\"Open In Colab\"/></a>"
      ]
    },
    {
      "cell_type": "markdown",
      "source": [
        "# Pregunta 5 (puntaje adicional 0.3):\n",
        "# Ingrese al canal de Youtube Computerphile y vea el video Binary Addition & Overflow. Comenté en nomas de 5 lineas la idea principal del video. (https://youtu.be/WN8i5cwjkSE)\n",
        "# PD: El canal Numberphile tambi ́en es bastante interesante."
      ],
      "metadata": {
        "id": "ak2pse-Dss2F"
      }
    },
    {
      "cell_type": "markdown",
      "source": [
        "El video explica las adiciones binarias y como se generan errores. \n",
        "\n",
        "$n$ vendría siendo la cantidad de dígitos.\n",
        "\n",
        "Primero muestra la suma normal donde cada columna es una potencia de $10^x$ con $x=0...n$. \n",
        "\n",
        "Después explica la suma binaria donde cada columna es una potencia de $2^x$ con $x=0...n$. \n",
        "\n",
        "Al final explica que el origen de los errores (overflow) de usar binarios ocurren por cómo funciona la suma binaria."
      ],
      "metadata": {
        "id": "1r6DMVUgs3AM"
      }
    }
  ]
}