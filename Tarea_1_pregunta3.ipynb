{
  "nbformat": 4,
  "nbformat_minor": 0,
  "metadata": {
    "colab": {
      "provenance": [],
      "authorship_tag": "ABX9TyMdD4jusejDVr0TS0MmCcyz",
      "include_colab_link": true
    },
    "kernelspec": {
      "name": "python3",
      "display_name": "Python 3"
    },
    "language_info": {
      "name": "python"
    }
  },
  "cells": [
    {
      "cell_type": "markdown",
      "metadata": {
        "id": "view-in-github",
        "colab_type": "text"
      },
      "source": [
        "<a href=\"https://colab.research.google.com/github/LucasRobles2323/Tarea1-MetodosNumericos/blob/main/Tarea_1_pregunta3.ipynb\" target=\"_parent\"><img src=\"https://colab.research.google.com/assets/colab-badge.svg\" alt=\"Open In Colab\"/></a>"
      ]
    },
    {
      "cell_type": "markdown",
      "source": [
        "# Pregunta 3\n",
        "Use el m´etodo de la bisecci´on para determinar el coeficiente de elasticidad (o arrastre) necesario para\n",
        "que un saltador con masa 80[kg] alcance una velocidad de 36[m/s] despu´es de 4[s] de ca´ıda libre. Note\n",
        "que la aceleraci´on de gravedad es 9,81[m/s2\n",
        "]. El intervalo inicial [a, b] = [0,1, 0,2] e itere hasta que el\n",
        "error relativo aproximado sea menor a 2 %.\n",
        "\n",
        "Muestre los resultados en una tabla con las siguiente columnas:\n",
        "\n",
        "![image.png](data:image/png;base64,iVBORw0KGgoAAAANSUhEUgAAAoQAAACTCAYAAAAX+whFAAAAAXNSR0IArs4c6QAAAARnQU1BAACxjwv8YQUAAAAJcEhZcwAADsMAAA7DAcdvqGQAADRSSURBVHhe7d0JXBTl/wfwD8slKoqaB5riDXJ6H3mbmb+yPMHy1l95lfqzw8rMNC3/WXkkeKXlXSogKuKdt4hYCgICInKDXHLfu/PfXUYF5FjMXVv28369xmG+K8w88zzPzHfO1RPkQEREREQ6SyKOiYiIiEhHMSEkIiIi0nFMCImIiIh0HBNCIiIiIh3HhJCIiIhIxzEhJCIiItJxTAiJiIiIdBwTQiIiIiIdp9KLqZcsWYKoqChxioiIiIi0zZw5c9CnTx9xqjSVEkJLS0t8/vnn0NfXFyPq5+npiSZNmqBnz55iRP0OHDgAGxsb5VATXL9+HYmJiRgxYoQY0V4uLi4YN24cmjZtKkZIW2VnZ8PZ2RmfffaZGNFePj4+SE5OxptvvilGqKa4dOkS8vLy8Nprr4kRIu2maNMtWrTAsmXLxEhpKiWEhoaGyMnJUY41Ze7cubC1tVWONcXR0VE5ODk5iRE1SPfH1YhW6O1gVvX1+qJ78LlZBz16NHuma/uKJCooKEg5VhsVy1N0zwc36/RAj2bPdpeCvb099uzZoxxrherUs6ZVt11J7+PPc3noN7QTjMTQP6FIoKysrJRj9UmH/9UItOrtALPKG+Y/6mOKxDY4OFg5pppl1apVyMjIUI6JaoKq2vS/bl/1zGSJ8Pl9A77/5iusOHAHRWJYs2RIOO+CFas3YfOOM4gouxDZvtjwzQkUtaqn2oo3eBl1/lqF5V4P5H/5xZAlnIfLitXYtHkHzpQtUNnyVFIHBi/XwV+rlsPrwYsqiQZVt57VobL+UM12lX91I9b/mS5O/UvIEnDeZQVWb9qMHWcixOAj2fDd8A1OFLVCvaoq4EX3sQIffDNqPo7+y1avQtotd2z8Sb5uvj2AwBINSJaXh3zxZ/WTIS+vsrnlIWDPSmy6nPrCtpEKmcF/wt3VFa6VDG6eN5Dwr9n8ZSHQaxd27NhRYtiJXfsO4fS1QMRnV3NB027BfeNPWLX8Wxwo2Vj+Ac22s5IK4PPNKMzXVKfMC8CelZtwOfXFN46akxBK6uBlGwvEH1qDExGG0BPDmiSN2IL/fhyCHnZ3sXb+EuwLk4qfKKTh9LKfkTVpAQY0UHW1G8P2/YWwcP8Su6NeQGORRmDLfz9GSA873F07H0v2hYkfKJRTnsrqwNgW7y+0gPuXu/EiiqI5z1LPalBpf6hOu8rBpYNh6OLUXTw7KEX08dVYMHcBPvv0Q0wY+gpenf0L/tJoQiNFxJb/4uOQHrC7uxbzl+wT48XSTi/Dz1mTsGBAAxU2cC+2j+V778Mur73Y7fVQjFSXDGmxsUhXw6KbNO0IS9kVbNpwDGGP9vEPD2JKm4bo9OFZjeysHx6cgjYNO+HDs+XNTYaUE5/gnU8OIzJPDL0g+ib10aBWAtw+exfvfnUCWWaN0bixfHipIUwN8xB9eQs+nrwCJzPFX3jhjPBS205oa3gFP8yciTV/mcLKthM6tqyLtL/24MPBPTHm27OIV7VdmTRFR0sZrmzagGOPG4tqZGmxiC3bgDXczkrJ98a+XV7Yu9sLz9orVSZLwYlP3sEnhyPlhzYvXs1JCFEHLdoD6Umt0KdfK2jubsdHpAjduxO+7fuij/0oLPvNBbM6PlmKghtrsT59LGZ3MRYjKtJvjQnTGmDPCk/1N84ypKF7sdO3Pfr2sceoZb/BZVZH8ZOKylN5Hei3noBpDfZghaemS6I5z1zPVZGGYt/GI9U4w1BFf1C1XWX9CdeYnnCyM1BOSu9swmqfXli2cT2+/8EZ+9xWweHyPLw9cx/iNJVPydfF3p2+aN+3D+xHLcNvLrPED+QKbmDt+nSMnd1Fnuqp6IX1sTxcPREM46aZOON6DClitHrycG7zVvg9n5MypRib22Lg4M4odZeHaReMmTkb74+wgiZuIDLtMgYzZ7+PEVZPz016byfmr87A/JN/4v+GNnyhO7PaFt0w+I2R6GMhgcTcHq8OGYiBA+XDoCF4feQkLFx3GPvmmiEmSg0V9UyM0NSqBwYM64GWEj006dQXPbv3RO/+r8Hxg1X4feubiFg+Bk4/Bqh2tc3YHLYDB6PzM9wSlHduM7aWbcAabmcl5V09gWDjpsg844pjz9YpVSTFvZ3zsTpjPk7++X8Y2vDFp2M1KCGU7wtuXYKPrAf6OTyPO52qKwPXfUPQ1sEBdVsMwLtju6HR47WbjdNbz6LN+OFoIEaqo1bvaRhwbxsOxGpqj1ss47ovQto6wKFuCwx4dyy6PS5QxeWpvA5qofe0Abi37QA0XBQN+Wf1XClpPP46fxvJ1VhvVfUHVdpV2gkPJPd3gqUyo5Tirsd+HNi/FR73xLPf9fti6thOSDq6E4c1dTtAxnX4hrSFg0NdtBjwLsZ2ayR+IK+B01txts14DK9mBbyQPpZ3BWcKJuGH8W3lebcbPBOfYd5513DOOwNV3gj+rMpeajFojzHL1+CL4S00svMwaD8Gy9d8geEtys5NhqSEZph/cAdmOpiKsX+jfGTnKPpKbXQb1hFCzL8lIayckVUX2NbPgo/HMYSXvNBVqWe5LpeHa+e8kVG2AWu4nT2RhytnCjDph/FoKz8YdvNMVN+tCLIkJDSbj4M7ZuLf0oTVuK5lyIq4hmOHL+BethhSKykiLl1BnENf2Cf5wOvoOQRr6Jp8ftI9BNz0woXb+mhimomgoGiUujKQdwEe19pgUK9aYqAMWRYirh3D4Qv35ClFOeSdo79NODy9ktXXOEvKT8K9gJvwunAb+k1MkRkUhOiSBaqwPFXXgUH7/rAJ94RXdTKbf0CaGQnf427wuBCqlstqpVRVzxrtEyr0hyrbVQqOHc3EkLFtxDOMemhk7YC2dQ2h/3jLoQeT2iZAUSYystWWlojykXQvADe9LuC2fhOYZgYhqHTDxAWPa2gzqJf80KMC0kxE+h6Hm8cFhJZsEJruY3I5F84gv9cIDHUahQ7Zip1PUgXzluJhyEW4/7YJm3d5wT+leA9dkBqAA58uwq67yYi47Q//23cQm6X4JA/xAVdx7vhhHLoSKf9tuexY+F/5E14eR+ATW2IPX5AAX4+d2LZ9Nzx8oqu4PFeEpGBv5d89fC26+O/KfyMx7Db8/eXzLzHcDol/si1TYR7ShyG46P4bNm3eBS//lOK/XZSEYO9zOH74MK5Fl1hmOWlqKEIeJCHg2GFcDHkoLotcXjwClOU8hr/kBygF8Tdx/OAf8LgYpv7+X55MN6zbFKJcPmOH4XjNQt5xsqPhd/kMPA+dQWB6PhJuHcehkwFQdM/saD9cPuOJQ2cCkZ6fgFvHD+FkQIn7I6WpCL7gjl3bd+HQxRA8fFzwbET7XcYZz0M4E5iO/IRbOH7oJAKecR8oS0vAgywJmts5oHmZyws50b449vt2bP3tEG4kVJXgFiDB1wM7t23Hbg8fRJes/IJUBBz4FIt23UVyhKIN3cYdZQN+up3J0qIREhaO++H3EBocgVTlbLMQHxaKe/fCEBKRIp+TghSpwRfgvms7dh26iJAnK0g1ORdwJr8XRgx1wqgO2fjTzRNJZVahso7OHoOH100kFqQg6NwhuB27itDU4iVQqqSOi8mXMzQED5IC5PuDkssp7+tRIQgLv4/weyEIjk6X170MadEhCL0XjnuhoYjNfLY6VYV6EsL8MPwxdxTmHExHm04yeH03GYMsJ8NVrTvBVFy+HIhaeQHyDUptdLFOwhrHmXBV+SaIZyWvrPCb8DnrBe+4FnhJ8MP1v8ORWqIdFoX4wK++NWzl+82y8sP+wNxRc3AwvQ06ybzw3eRBsJzsWiYxNEaXnh0R7OMrNnr1kqWF46bPWXh5x6HFSwL8rv+N8BIFqrg8KtSBcRf07BgMH181l6QoCp5LnPDOV/IO3bInrDN3Y/7y8+KHZRSl40FsLKKjoysfYuOQlFXxBqayetZ8n1ClP1TermQJh+FV9DrGvPxoMyFB45HO8PbdgSltxL2ELBne1+5Az2owhrQus+d43mRpCL/pg7Ne3ohr8RIEv+v4OzxVucNQKgqBj199WJdbAUWI8lwCp3e+gmdSS/S0zsTu+ctxPkf8WMN9TLEDP3+uEL2HNYBR13EYbZWL865H8NRJVlkizi4ZhhErQ9ByxH8xY5gh/pg2EZvv5CLC1xepBrWhl/8AwTeu4/r1mwhX7FhkOYgLvoqdX0zE9J99lAmYLDsGAZd/w+cTZ2HLzcLiv11wC+tnf4tgq3GYMfVV1HGbgSFzXBFVYRMvQGLoNfz+9TTM3PQ3lH+lwA/rJk3HunOhePAwA5npd7F31gAM/fgoEhR/p8p5yJB4dgmGjViJkJYj8N8Zw2D4xzRM3HwH0oJEhF77HV9Pm4lNf4vLLP//cZ6L4LjAE9JuYzB1tANyDs6B49IzUJxgleXE4c61vVg6bT5c9v2GjWczYdmvO6S7x6Dfx3+WPlBXEyE3BVF35QlroC88f9qNK4+SILNu6GVtBFlmDG5f+hWfTfkCLr/8DLf7wdg1cRA+dM9EZsxtXPr1M0z5wgW//OyG+8G7MHHQh3CXbydkcZ5Y5LgAntJuGDN1NBxyDmKO41KcURY8EzG3L+HXz6bgC5df8LPbfQTvmohBH7qLM1ddUdINbPv4FySOWoP93w9HXTGuqP/QfbMw8qNzaDRsGqYNAbaNfxtrblV0GFGAW+tn49tgK4ybMRWv1nHDjCFz4CpWfkGEL3xTDVBbLx8Pgm8oX5N2M1yR3D/dzooe3MapTe/jFas+mPWLL2IVs5Sm4K9N09D39fnYdvE+cmVx8FzkiAWeUnQbMxWjHXJwcI4jlp5R/Sxf9vlzKOw9DA2MumLcaCvknnfFkVKdUiavowBc2fE5Jr63AIu/+Q1/SVujfe1bWPXWEMzcc0d+OKaojorqWFmRlSxnPuL9z2DPl2+js9Wr+NQrVh4rxP2d09Cz+ygs2nwEt5LUeOCteO1MVQwMDISCggJxqgrSeMF1agfBbt5Z4WFxQIhzflWo03WZ4F+oDKhkzpw5gouLizilgiwPYap5a2HaoUT5HJUBYc9oM6HfD2HKKVWMGzdO2L9/vzhVPXmnZgkW7ecJ5/LEQAm5bhMF8ze3Cani9CPSeFdhagc7Yd7Z4jUlSOME51frCF2X+QtlV1Xenx8IHYc5C3HFhVOJs7OzMHfuXHGqmvJOCbMs2gvzyilQReVRrQ7yhD8/6CgMc44Tp1VjZ2cn+Pn5iVNVkKYIJ+bZCR0mHRTiFQsiX6+bhtUVmk44UPx5GVnem4T/ydvb7NmzKx/mzBU+3x0g/tbTKlwvz6NP5J8XPnJcKdxW9f+r2B8qbldSIXKjkzB1b7I4Xb7ca18KXV/qJnx+Pk2MVC0pKUlo1KiROFVdecKpWRZC+3nn5D+VkesmTDR/U9j2dAUIKSfmCXYdJgkHixuEELdpmFC36QThQIn/+yx9bMOGDcIHH3wgTlVD5hHh00/cheK1VijcXNpZMKw7TNgYU3rmKYemCi1bTBAOJhfHpfd/FobUbSiM35+hnM49PE0wl293zucrJ0vIF65+YiU0cNovZIsReQGFD9o2F6YfzVVOFt1dLfQ1ri84/pGlnBZSdwhvm3UTvi7RKAtvfCk4mE8RPIp/Ra5Q8F1sL5hP8RCUobwzwtdLDguZ4mfBLsOFZhYThD/EclQ5j5RDwtSWLYQJB5OL26n0vvDzkLpCw/H7BWUJC32FxfbmwhRxAaQxvwmjXx4srL1fpJxWKgoUVvRqJby7/0Hx38j3FhZZ1xfsPj5b/Dfk8o6/J7Rs/2G52+eKfPfdd8Lnn38uTqlAGiWsH2wkGFiOF779eYPw85qVwoLhHYV+KwOFEktbLO+EMLOlmdBrha9QKE0WfD08BF+xjvNOzBRamvUSVvgWCtJkX8HDw1dILowRfhv9sjB47f0Sf6tICFzRS2j17n7hgfJX84QTM1sKZr1WCL6FUiHZ10Pw8K28/wqJW4TXjQ0FmylrhV9++UXYvPYLYbS1hdD38xPF284Siu6uEwY36i18F/RoCaRCxNrBQrPRuwXlXApvCF86PKkr+S8Iq/saC/Ud/5BvfRRShR1vmwndvi6xf8s9LEwzl+9nnmrAZdqZQuFNYWkXM2HwuvDH6yDrxAph+XFF65MKMb+NFl4evFYo3TRWCL1avSvsL15BVcgUjnz6ieAubsoKby4VOhvWFYZtjCluVyUo66jJeGF/ie1H/rXPBBvTbsJSX7Es5dZxoWrLWRQh7HZqJ9h+cFxIlmYIl39YJLjcFPvQP1BVm37uZwjzvX/EkoONMenDgTBTRgoRcPsemvcbBMvi+9LVouDWRVzDAIwc1rj4tKcsGYmp+UiMi1d+rl5SxPoFIt3SAXbl3MlemJEBad16ZW5yz4f3j0twsPEkfDiweE2hMAC37zVHv0GWKLuq9GrXhUlmGtLUfVVOJI31Q2C6JRzKKVD55VG1DvRQu64JMtPSxOnnr+D6any83RATPh1VfEO8xBzvHYjC3V2Oxf+hjDq9Z2Ptxo3YtGlT5cNGF6yaVPFLyytaL9XuEzm3sHflUiz96it89WhYvgPX7pzDxmUlYl8txderPRBazhkdVftDhe1Keh9uZ03x1ptP7s8rS5Z6Bos/Pod+vx7ByoH1xaiaSWPhF5gOSwe7p9azvAKQIa2Lek81zOtY/fF2GE74FKOKGwTM3zuAqLu74FjiXkNN9rH000cRKsvCaeUrSTwQUrsNmuZdhtuhmBJnM9Jxcu9hpHR9DUPF+3clrefh+INo7HWq+qYjib5+mbu69KBXIqDffj7cgvywdZw+EgIuwutUGLINUpCUWOEpQiW9Un/EHENe74Ha8h9zbvwfZnwdibGbN8BRvOevqnmkn9yLwyld8drQRsXtVNIa844/QPReJxSXsOQyyxDjtgunDKzhYF7ibLR+W3SxKYTnziPi5T3578j/bd+ll/g35GrVglFuDrI0ULeS5q9g8gcfYt7CL7Hm108w4PEtvDI8uBcuXrqWyMtlAmsHWxhIGqH7yJHo/ugebYl8+U3kZbQ1gKRRd4wc2R0N4tyw65SB/P+bl3hATB9tu9ig0HMnjojXNSXylWVi7QBbAwkadR+Jkd0r7r9P6KFZr3cw4733MOt/38H92h70OfYO/vPl5RJXqqSI9HDFVYPmqJd6Q/lCdh8fX8QYNYR+0N+4U95pdf32mO8WBL+t46CfEICLXqcQlm2AlKTEJ2f1K1GqnSkY2GHqlM64uXun+Bqkhzj1Vx38Z0hd+aqNgduuUzCQl7100+gCm0JP7DySJEYqkX4aR0NlyDpd/Jogj5DaaNM0D5fdDiGm5ElCBXkdSYzroZ6i4YuMujlidJsA/L7vuniVoZw6bhCn2nLqW2CCfH8z6MJcTP5wJS7ZfoTZnesUf6ZGYgt8Xgrw16GjiOg4FK+3FUtbFIAL1/LQc0C35/JS2/JJEeN9HfG2vdH70c1DOb64EShB645txYA65cPPLwwt7e1R3m5RTyKBTFqmCxT8hUNHI9Bx6Ot4sqou4FpeTwzoVs6aKshHgUT/eVdYhfL9/BDW0h725RSo3PJUow4K8gvkOyt1laQAN1wPIazdf/CW9ZNsy6B+A5iW6IDqUP56eYY+Uasd+o0cjZGjRmHUo+Ht/mjf3BqvjiwRGzUao9/qiZefKlc1+kMF7UoaehCXG4/G6xXleXn+2LhwGxp+64G1bzV/+ilmdcn3g19YS9iX3zAhkUmf2tkU3HDFobB2+M9b1k8OtAzqo0HZBqGxPpaGM1f0MfSNVsWvJpEPzXpNwDj7Ilx1P/TkcqrsIeITc2Fsalrqnkij2rWfz/qWZSDs6ApMe+cL/BFigHa9O6OVfEay6iRN8uRsQD9zSNLO4av/rkPB7O34v+ENIWRmFicTlc5Dhofxicg1NoVp6QKidrkFLEJ8bAKKjIxhVCpX0IOxkSEKEmKeXHLX04ehYZmEourvYHjuJE1ex8S3WhTXlywa7n+cQ67yEzlJPZhV8GoqST0zlPyoKD4WCUVG8nKWLpOesREMCxIQ87jgEtQzU+V1S5Uw7YGhfeoiYPtWnH58S4UUSUkpEIzlB1y1TGBiUjyY9luK40c+Q/dyN2QyZIQdxYpp7+CLP0Jg0K43Ole7gZWkj9bvTsfgyN/x29V8yGKP4k7DN9BVMe+ieMQmFMFIvj5KNw15WzEsQELMAzFQsbQzV6A/9A20Evtk42a9MGGcPYquuuNQxfdRPCFpjJcaAknyg+7Hd1aWreNqLKek0etYvqQP/Fx9YdBCM19w8JznUYTYmETUc+j2+MyHLPYSrkTa4ZU+tRDnfbU4+NxJEReXjFadu+DRk9vZF07gIobinbebFQfUqSgMfkFFsHLo9NSZPQVDeeMyzU4vfV9gUSxiEuvBodujs4EyxF66gki7V9CnVhy8r4Yqo4/I0jOQ27AJmmhkz1uEML8gFFk5oFM5BSq3PCrXgQzpGblo2KSJOP28yRAfl4TaNp3LXfbyZF1cjUmjR8mPxOVH1JUNo8bgvS1+4m89rfz18gx9QmIKC7su6Nat25OhSzu8VL8pLLuUiHXrgs6dmivPzpSmen8ov10V4faB63h53Ksl7h8qQRoJ1292wOij7VgysPgMZMqBzdirgbfuFoX5IajICg7lN0w0Ns1GeukKgCw+Dkm1beTrqvIGobE+9vA0fGqNxYxXxVeTKF9PMhpzxneHzNsd7hHizkfSBB3aNkBuQnyJm9EVCpCVVfq+LWWuk38W69b7PD47IZGUTYiykZP7aGcsQ9SvMzDaWR+ztq7F/8a+AsumJpAo/5Diiod/8X9ThSwBhz56H7sbLcZvX/WRt5kC/L1tCy7kVTWPADTp0BYNchMQX+bhh4KsrHIePjGARfvWMFKcxS3134uQlpYFE4v2eFnFPq8x+q1gbSUevKRdw/2CdqUSPVUZyMvW2ihTXs7S66koLQ1ZJhZo/1wLrgdTU/lWJS0YgZGPEiEDtLFqD5McKep0sld+Y9SjoWPTktn8E7KoXzFjtDP0Z23F2v+NxSuWTWEiEZRPxCuuQPmX3F4UN2CcXbcePpXcxCtpOhrT386F629euHk0Bi3f7lCcbBvI10FrI+WVp9JNQ95Wskzk7eZlMVCRhzjtUwtjZ7z6pE8OHITRc8aju8wb7u4R8hZbhaJIRMQCrS07VHzyqxrLKUs6g1/vjsIf35lh05TFOKe+i2qPPUPTrIwR2rZvAzPTemL2mw6fbftw06IX+jSKwbELpZOc58cALVu3RC1Dg+IC5d/Chh8vwX75Kkxu/pyLWJ4seeO+3xYO9uXdzC5fOqtOaJ0YhciSD2QZtUX7NmYwrSdutNN9sG3fTVj06oNGMcdwIbTk6WF5EhUTD9MOllD/SWOFLPj530dbB3uUV6Jyy6NqHcjSERNvig6W6iqJIWw728CoqFB5M/Ij+aEH8M26c+JUaXUHLMKeQx44fPhw5YOHO7bNchB/62nlr5cX0SdU7Q8VtKuCv3DwVns49i9nQy9Lwdlln+Fko95ocv80PDw8cMh1N9Z7ReElDbyIO0ueqNxv64Byu5qBFTq1TkRU6QqAoW1n2BgVobB0g8CBb9aV2Mhqqo/JkyTXo8jt/kqZRF4f7caORg/BB26uYeLOpzaGzZkJG/+9+C3gyV5SemcbfjpYfOlf0rABTHOykKnYnxY8hGDYQDx7qIeGDepDVljweMdTEHgD/hlSyJSBAvh730C2VW/0ES+bS+PCEZktg0xaiNAr4oGKfEctKIbiKaXS01Lc3zkH807ZY/X2BbBV7AmlEbgSnCk/GKl6HrWHzcFMG3/s/S1ATGTlpHew7aeDiFeuhOL5F5Og2bh5mGDqjeNXSjwe8vAMvG40x/R5o9BQGRDkZVT8nnKimGJaPioZev4ezbOcucge4tIPPyO4iaX4Xj1FPZRZxkek8vUj/6DkR5Jm4zBvgim8j18p8WDMQ5zxuoHm0+dhVHHB5b8qK7G+VCHOp9Tv6KPRSw2hJ72HwCDFIxIF8HE/iiZjFmBqkytwO1biIY0Cf2xd4yGemVWU50mZCvy9cSPbCr2fVD7CI7Pl5ZaiMPQKripe8SRpiAamOcgqbsB4KBiigXhAVrbdFTPFsBlOqHv4a3wRb4MRj7ZnkmYYN28CTL2Po3TT8MKN5tMx79EKqoAsyhVHc7vjlTJH1/rtxmJ0DwE+bq4o9T0TcrKsOESXeFtGiucvcM0ajvkz7ORbYIVy6ljV5cz2w+Zvr6HrPEf0n7EZ67p54r25fyD60ezkB2FeS9/BxFUVPCj5jPSXVfQtxyWsWLECX375JfT1qzp0lndYy8YI2eOG6LpS+Lt7IM6yOwS/cNQyiEFOh3fQp71qm9tjx46hSZMm6NGjhxipjB7qdWiGiF07ESRNx+WtuxHxhjO2zbR++j6jShw8eBA2NjbKoToK/t6NlZ4NMH3pSLQv50BNYmqA0F/3I2fkO+heV0wA5Q3DsnEI9rhFo67UH+4ecbDsLsAvvBYMYnLQ4Z2haF/n0RF+Pi5uWY+Hry3GWKsKjz2e4uvri6SkpOp/8X7B39i90hMNpi/FyHIKVG55VK2D/IvYsv4hXls8FtUoivIevjFjxqBp06ZipCISvORgB6OTv8AjtR5qpwfi3OFDOBXZBpNmDYWZGs/+lL9enlOfkEbilHsUuowdgCZV5l2q9ofy21X+lXXYlOWEj14r+w4wGaJ3Tsbrn7ri0klX7N+/v3g4eAjX6o/Gshl9YPao2JVQfC+64rt/Fy1aJEZUVYC/d6+EZ4PpWDqyvbjRLUFiCoPQX7E/ZyTe6V5XTMDl4ZccYGd0Er94pKJe7XQEnjuMQ6ci0WbSLAxt9qhBPFsfUzwZqfhO5jfeeEOMVEwWfwKrFy7AZxtP4sYtf+S07I/+HUyVy1l0aye+lCdB3sHxuB9wA6FRUSi06AeHzgMx3C4WO1fuRLBUgrTA0zhwrTGcZvVDY/kK0G/WEgbXNuGPUFNI5W3KbMRbsFOeFpag/su1ELrnIALrNYVw7yK8gqTQCzmGE39FIdOsMya82hSBBw7AR9YItRJ8cMy3EQZ08sf+41Ewtu4P64eH8PXag7gcEoG4+DSYtOuA+L3LsNb1MkLux+OB0BzDzc9j2rj1SO87Bra5/rh26ST2r/kaLtG9sXD6ANi0MKxkHgMxuEdv9B9uh9idK7EzWApJWiBOH7iGxk6z8IpwAT9/vRaul0NwP/4BhObd0cu6M4YOawpv5w04G52JlDsnsX3DCZjM2YJVb5lDEn8a65ath/vVMETGxyLFuA0sIndghcth+NyNREJCGmpb9kUnFV4CfPnyZeTn52Po0KFipCIyPDj7M75ZswWup+8gISUVifEh8D57GqdPn8Qx973YtHwRlh/KxqD/LcJ/9LywevkmHLkejPCYWEQlGcO2Z1uY6smT6yOrsXzTEVwPDkdMbBSSjG3Rs62ijZigw9BhaOrtjA1no5GZcgcnt2/ACZM52LLqLZjr3ceR1cux6ch1BIfHIDYqCca2PdHWtIIOKUuVt/dvseHXIzgXmozkBzGIC4+HsX03tK6jj4at6iHmtCf+TG6LN23DcfQvMwwYNARDhlvglvP/wS00C/lJfjh+8CZaTZ6JXkXnlXV1UF5XEXHxSDPpgFeH2sEw8AAO+MjQqFYCfI75otGATvDffxxRxtYYOLI7Wpo0Q0uDa9j0RyhMpX4INxuBt2wKce7nr0u1szd6tREXXH7c16IF0o/uh8l/f8CYNk+2AiYdhmJYU284bziL6MwU3Dm5HRtOmGDOllV4y7ycHbOCLB4nVi/Egs824uSNW/DPaYn+/TvI60L+WdEt7PzyJxz0Dkb8/QDcCI1CVKEFBtk0hjTcE86eiaijF4u4lExEX9yEb/ZJ8f62jZjeqTZk949UUMdVLGfTZJz+Qb48C7/CLzdrYcC7Y+BQPwNBx/Zhn7wfefpGItmwPfpa5eLkj/8H1xQHLHDqUlwWFVTZpuVZeJWq9ZSxQuFDISIwWIh/9LDRwwjhbuzjZ91UUu2njBUK04TIu1FCRomnd6rj2Z4ylgqR6wYLzRx/F58gLU+h4L98iDBuh/gUXAmF8nUTGBwvPklVJDyMuCs8tapyzwrzBs4WjlfzIaNnfcpYGrlOGNzMUfi9wgJVXJ6q6iD37Dxh4Ozj4lNnqqvWU8ZKUiEr7o7gHxApPFT1ydx/rLL18g/7RP554WOnajxlrFBVfyi3XWULpz4cLayozisBqumZnzKWRgrrBjcTHCtumEKh/3JhyLgd4lOXpUmz4oQ7/gFCZHkN4hn72DM/ZVxt+UJyWIAQFJPx9BOr8q1HfHCgEJFWTkUXZQhRgf7C3UTFk49ZQmzIHSE8NkXIfrwKpEJ2fIgQdD9VfPKzSMjOyBJ/fl5Um0d+cpgQEBSj8vY7LzFMuBOeIl8z6lHtp4w1JS9RCLsTLqSoq+CPFCYINz33Cjv3XxIiyjydrVj3t4Nihcxy+llZ0ux4ISTovpAqVnhRdoaQVabyc+ODhcCItHLadvmyEx8IGRXOO09IDJO3czWuIOVbRVq+LxzPzRdS7wcJwXFZT2/zq6T+5SxL408ZKxmYwcLaEs3EK076ZhZo3/zpO52eO4P6aNW+pdofHlDK98P2OVPw3flEePvEY+j418UnSMtjAJv334PpsT24W+a0s4F83VhbNhNvGteHmUV7lF5VMiR67EPCqAV4Ta3XsvLht30Opnx3HonePogfOh6vV1igistTaR3IEuGxLwGjFrymgUvfEtQxt4KdTSuYVXBw+PxVtl7+YZ8wsMPkj8agxAFx1SrtDxW0q6wzcIvvA8cSD+S8aPl+2zFnync4n+gNn/ihGF9xw4SBzft4z/QY9jxVAfIWUcccVnY2aPVUg9BUH/snjNConQ06tTAVLwmXVAvNLK1hUb+citY3RUtrO7RvrDjrWQfNO1qhTfOGqP14FUhQu1lHdGrdQDzjqo/apnWePvv6j6g2D6NG7WDTqYXK22/jxu1g1aZhxfdr1VTGjdHOqg0aqrvgBk3R+c0JmOLUDxZlLrUp1r1tp+aoq0IGIandDB07tUYDscL1a5uiTpnKr9XMEtYW9ctp2+Wr3bgJTCuctzEat5O3c3WuIPEWBOgZoUHrTrA0r1PmaooqNLCc1aSehFAHyFKv48ifyTDOcMcpyTwsHln5d2VJzJ2w5I1QbPgjWr77qYa089hwuiMWzbZSubM8E1kqrh/5E8nGGXA/JcG8xSMr/fq1ZylP2vkNON1xEWZbqbUkL9Qz13NVJA3h0KvT80ukK2hXD48fwcOBjmj/r6kiGVKvH8GfycbIcD8FybzFqLSrSczhtOQNhG4ocb9NVTTVx4hIy8mQ4ic/4PS8hZTUW/Dc4wm/sl9losWYED4jifkMbHOdjxa5nbB461wVnmjVR9sp38LxwUZsvaH8fqmqKd4Ft+4yui79GN3Lf5Dr+ZHvSGdsc8X8FrnotHgr5lZZoOqVR3rfDesud8XSj7tX/LViNcIz1LOmVdiu0nDyZC6Gjm31L0qMJDCfsQ2u81sgt9NibJ1b/pP8Jem3nYJvHR9g49YbqLIGNNnHiEjrGZg2hfXEDTh3zhmTrJvBtAadomZC+Mz00dhuON4ZPxjtVL3yJ2mEgR8tw0RLFVuQflMMX7QUoy00s3vWb2yH4e+Mx2BVC1SN8ug3HY5FS0dDQ0V5sapbz5pWYbsyw4gfXTBdE0/mV4d+Y9gNfwfjB7cr5xU75ZGg0cCPsGyiZdWXEzXcx4hIm0lQv2139OndEz169ETvPt3Rtn7NSaOYEGqcMUxVPqSojTrVuM3sxVCxPLXrqLgzrymqU8+aVnG7qmtm9pzvH3txFC90rroGtKGPERGpHxNCIiIiIh3HhJCIiIhIxzEhJCIiItJxeoqXEYo/V6hz586YOHEiJBLN5Y9XrlxBgwYNYG1tLUbU7+zZs2jTpg3atm0rRrRbUFAQHj58iL59+4oR7eXm5oZBgwahUaNGYoS0VV5envJbgSZPnixGtFdgYCDS0tJqRB+j0m7duoWCggL07NlTjBBpN0Wb7tSpExYvXixGSlMpIfzpp58QFxcnThERERGRtlGc3Ovatas4VZpKCSERERER1Vy8h5CIiIhIx6l0hnDHjh1ITEwUp4iIiIhI27z11lvK+wjLo1JC2KtXL/Tv31+jD5UEBATA1NQUFhYWYkT9/v77b5ibmyuHmiAyMhJZWVmwsbERI9rr0qVLyoebFG2CtJviRv2LFy9i6NChYkR71aQ+RqXdu3cPRUVFsLS0FCNE2k3Rpnv37o1PP/1UjJSmUkJoaGiInJwc5VhT5s6dC1tbW+VYUxwdHZWDk5OTGNFuLi4uyieNFWNtZ29vjz179ijHpN2Sk5NhZWWlHGs7Z2dnBAcHK8dUs6xatQoZGRnKMVFNUFWbVvspP2lBAWTizxohLUCBRmdIREREpN3UlBAWITP2JjzX/Re9+3yKC/liWI2k0cexesFcLFj8JT6aNBSvvDobv/yVLn5KRERERBVRQ0IoRaTnz1h7IAjIiEBgSqH6zxBK72DTah/0WrYR67//Ac773LDK4TLmvT0T++J4upCIiIioMmpICPVhMeIjLF04EQNb1YGeGFUn6V0P7D+wH1s97snTUYX66Dt1LDolHcXOww80e8maiIiISMto7rFhNdJrZA2HtnVhqP+kOHomtWGiuHSdkQ2+eZuIiIioYjUiIZQ0Hglnb1/smNIG+sqIDMne13BHzwqDh7QWY0RERERUnhqRED4lzxcbfr6Mdh9twKIeBmKQiIiIiMpT8xJCWSrOLP4Y5/r9iiMrB6K+GCYiIiKi8tWwhDAP/hsXYlvDb+Gx9i0057ViIiIioirVoIRQikjXb7DD6CNsXzIQjRUlSzmAzXsT+JQxERERUSXUmhDKFN+KJx/U/5SvDClnl+Gzk43Qu8l9nPbwgMchV+xe74WolxrU0BsliYiIiJ4PNeRKMqRe3IwlX3yMedtvQZL+J35a+BkWL9sH/yLxvzxnsuhdeH/Cd9i/7ROMHz0aoxXDGEdM+f4+XrLU3PcvExEREWkjNSSEEjQcMBsrV/2EXZejkZkWguMbv8d3yybAXk0P/EpaToP7AykExdnIkkP+BXzUmucHiYiIiCrDbImIiIhIxzEhJCIiItJxTAiJiIiIdBwTQiIiIiIdx4SQiIiISMfpCYrHcavQvXt3pKWlQU9PT4yoX15eHiQSCYyMjMSI+uXm5sLAwACGhjXjVTUFBQWQyWSoVauWGNFe2dnZynLo6/PrZ7SdYpOjqM+6deuKEe1Vk/oYlZafn68cGxsbK8dE2k7RphctWoQPP/xQjJSmUkKoSJL8/f01mih9/fXX6NixIyZOnChG1G/evHn4z3/+gzfeeEOMaLc9e/YgLCwMy5YtEyPaa8SIEfjxxx9hZWUlRkhbpaamYvjw4bh+/boY0V67d+9GeHi4cntFNcvmzZuRlZWFTz75RIwQaTdFm1akfGvWrBEjpamUECoSwZycHI0mhHPnzoWtra1yrCmOjo7KwcnJSYxoNxcXFwQFBSnH2s7e3l6Z4CrGpN2Sk5OVib1irO2cnZ0RHBysHFPNsmrVKmRkZCjHRDVBVW2a9xASERER6TgmhEREREQ6jgkhERERkY5jQkhERESk45gQEhEREek4JoREREREOo4JIREREZGOY0JIREREpOOYEBIRERHpOCaERERERDqOCSERERGRjmNCSERERKTjmBASERER6TgmhEREREQ6jgkhERERkY5jQkhERESk45gQEhEREek4PUFO/LlCjRs3xu+//w59fX0xon5btmyBhYUFhg8fLkbU74cffsArr7yCvn37ihHtdvz4cURHR2PmzJliRHstXLgQCxYsQOvWrcUIaauMjAzMmzcPO3fuFCPay8vLC7GxsXj//ffFCNUU7u7uyMnJwaRJk8QIkXZTtOm6deti1apVYqQ0lRLCfv36wcDAAHp6emJE/dLS0pTzVCy8pqSmpsLExEQ51ARZWVkoKiqCmZmZGNFeiYmJaNCgAQwNDcUIaSupVKqsT3NzczGivWpSH6PSMjMzIZPJUL9+fTFCpN0UbXrq1KnKA/LyqJQQKnbCiiMlTe6M586dC1tbW+VYUxwdHZWDk5OTGNFuLi4uCAoKUo61nb29Pfbs2aMck3ZLTk6GlZWVcqztnJ2dERwcrBxTzaI4i6I4m13R2RQibVNVm+Y9hEREREQ6jgkhERERkY5jQkhERESk45gQEhEREek4JoREREREOo4JIREREZGOY0JIREREpOOYEBIRERHpOCaERERERDqOCSERERGRjmNCSERERKTjmBASERER6TgmhEREREQ6jgkhERERkY5jQkhERESk45gQEhEREek4JoREREREOo4JIREREZGO0xPkxJ8r1LdvX7Rq1Qp6enpiRP1iY2NhbGyMl156SYyoX2RkJOrXrw8zMzMxot2Sk5ORn5+PFi1aiBHtFRISomyDJiYmYoS0VVFRkbI+bWxsxIj2qkl9jEpLTEyEVCqFubm5GCHSboo2/eabb2LhwoVipDSVEsIOHTpg6dKl0NfXFyPqd/jwYTRt2hS9e/cWI+q3b98+2Nrawt7eXoxoN29vb2UDGDlypBjRXuvXr8f48ePRrFkzMULaKjs7G2vWrMFXX30lRrSXoo8lJSXh7bffFiNUU5w/fx55eXkYPny4GCHSboo23bx5cyxbtkyMlKZSQmhoaIicnBzlWFPmzp2rTM4UY01xdHRUDk5OTmJEu7m4uCAoKEg51naKJH3Pnj01JlnXZYqzalZWVsqxtnN2dkZwcLByTDXLqlWrkJGRoRwT1QRVtWneQ0hERESk45gQEhEREek4JoREREREOo4JIREREZGOY0JIREREpOOYEBIRERHpOCaERERERDqOCSERERGRjmNCSERERKTjmBASERER6TgmhEREREQ6jgkhERERkY5jQkhERESk45gQEhEREek4JoREREREOo4JIREREZGOY0JIREREpOP0BDnx5woZGBggOTkZhoaGYkT9/ve//8Ha2hozZ84UI+o3adIkjB49GmPHjhUj2m3Lli0IDg7G2rVrxYj26tWrF7Zt2wY7OzsxQtpKsS3p2rUroqKixIj22rx5M0JDQ7FmzRoxQjXFjz/+iIyMDHzzzTdihEi7Kdp0Tk4Ovv/+ezFSmkoJoaWlJaKjo6GnpydG1E8qlSrnJ5Fo7iTmi5inOslkMiiqV19fX4xor6KiImW91JS60WWKdqkYFAea2q4m9TEqTVG3CtzmUE2haNMrVqzAJ598IkZKUykhVJwZVGSVmjxDOHfuXNja2irHmuLo6KgcnJycxIh2c3FxQVBQkHKs7ezt7bFnzx7lmLSb4gyhlZWVcqztnJ2dlWfhFWOqWVatWqU8Q6gYE9UEVbVpHvoQERER6TgmhEREREQ6jgkhERERkY5jQkhERESk45gQEhEREek4JoREREREOo4JIREREZGOY0JIREREpOOYEBIRERHpOCaERERERDqOCSERERGRjmNCSERERKTjmBASERER6TgmhEREREQ6jgkhERERkY5jQkhERESk45gQEhEREek4JoREREREOk5PkBN/rpCDgwOmTp0KiURz+ePFixfRsGFD2NraihH1O3XqFNq1a6ccaoKAgAA8fPgQ/fv3FyPa68CBA3j11VfRqFEjMULaKi8vD7///jumT58uRrRXTepjVNrff/+NwsJC9OrVS4wQaTdFm7a0tMSXX34pRkpTKSH84YcfEBsbK04RERERkbaZPHkyunXrJk6VplJCSEREREQ1F+8hJCIiItJxTAiJiIiIdBwTQiIiIiIdx4SQiIiISKcB/w+UICheYCtJzwAAAABJRU5ErkJggg==)"
      ],
      "metadata": {
        "id": "aLVi6Cgpzywc"
      }
    },
    {
      "cell_type": "markdown",
      "source": [
        "### Formula\n",
        "$\\frac{dv}{dt} = g - \\frac{c_d}{m}v^2$ ; siendo $c_d$ el coeficiente de elasticidad.\n",
        "\n",
        "Del enunciado se extrean los valores de:\n",
        "\n",
        "* $g = 9,81 [\\frac{m}{s^2}]$\n",
        "\n",
        "* $m = 80 [Kg]$\n",
        "\n",
        "* $\\frac{dv}{dt} =\\frac{36}{4}[\\frac{m}{s}]$; en este caso se considera la proporcion de la velocidad con el tiempo.\n",
        "\n",
        "* $v = 36 [\\frac{m}{s^2}]$\n",
        "\n",
        "\n"
      ],
      "metadata": {
        "id": "6Hu1Xk702Arc"
      }
    },
    {
      "cell_type": "code",
      "source": [
        "\n",
        "def func(x):\n",
        "  g = 9.81\n",
        "  m = 80.0\n",
        "  v = 36.0\n",
        "  app = g - (x/m)*v**2\n",
        "  return app\n",
        "\n",
        "def valorC(a,b):\n",
        "  resultado = (a+b)/2\n",
        "  return resultado\n"
      ],
      "metadata": {
        "id": "S_bSl_IM17UP"
      },
      "execution_count": null,
      "outputs": []
    },
    {
      "cell_type": "code",
      "source": [
        "# Iteracion 1\n",
        "a = 0.1\n",
        "b = 0.2\n",
        "\n",
        "f_a= func(a)\n",
        "\n",
        "f_b = func(b)\n",
        "c = valorC(a,b)\n",
        "f_c = func(c)\n",
        "print(f_a,f_b,c,f_c)\n"
      ],
      "metadata": {
        "colab": {
          "base_uri": "https://localhost:8080/"
        },
        "id": "TmYw4mG5Fg7B",
        "outputId": "b9d0ff59-b757-4c18-95fc-63406b4f92b8"
      },
      "execution_count": null,
      "outputs": [
        {
          "output_type": "stream",
          "name": "stdout",
          "text": [
            "8.190000000000001 6.57 0.15000000000000002 7.38\n"
          ]
        }
      ]
    },
    {
      "cell_type": "code",
      "source": [],
      "metadata": {
        "id": "lpjcvLgQGWpf"
      },
      "execution_count": null,
      "outputs": []
    }
  ]
}