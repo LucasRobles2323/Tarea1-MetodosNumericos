{
  "nbformat": 4,
  "nbformat_minor": 0,
  "metadata": {
    "colab": {
      "provenance": [],
      "collapsed_sections": [],
      "authorship_tag": "ABX9TyPeKzv/dbnozCE2tSSnvMah",
      "include_colab_link": true
    },
    "kernelspec": {
      "name": "python3",
      "display_name": "Python 3"
    },
    "language_info": {
      "name": "python"
    }
  },
  "cells": [
    {
      "cell_type": "markdown",
      "metadata": {
        "id": "view-in-github",
        "colab_type": "text"
      },
      "source": [
        "<a href=\"https://colab.research.google.com/github/LucasRobles2323/Tarea1-MetodosNumericos/blob/main/Tarea1_Pregunta2.ipynb\" target=\"_parent\"><img src=\"https://colab.research.google.com/assets/colab-badge.svg\" alt=\"Open In Colab\"/></a>"
      ]
    },
    {
      "cell_type": "markdown",
      "source": [
        "---\n",
        "PREGUNTA 2\n",
        "---\n",
        "\n",
        "El Manuscrito de Bakhshali (MB) fue descubierto por un agricultor en 1881 A.D. en Bakhshali, un pueblo cerca de Peshawar, India. Es un documento descubierto con teoremas matemáticos escritos en unas 70 cortezas de abedul. El período de la composición del MB se encuentra en el rango de 200 a 400 d.C. Un elemento de gran importancia histórica en el MB es la fórmula para el cálculo de las raíces\n",
        "cuadradas de números no cuadrados, es decir,\n",
        "\n",
        "> $\\sqrt{Q} = \\sqrt{A^2 + b} = A + \\frac{{b}}{2A} - \\frac{(\\frac{{b}}{2A})^2}{2(A + \\frac{{b}}{2A})} $\n",
        "\n",
        "donde $A^2$ es el cuadrado perfecto más cercano a $Q$. (Se tiene que encontrar de manera automática). La función debe recibir solamente el número $Q$ como parámetro y mostrar el error relativo asociado a la aproximación. Realice 3 pruebas con valores que Ud. elija y compare con el método \\divide y promedia\"\n",
        "(5 iteraciones).\n",
        "\n",
        "---"
      ],
      "metadata": {
        "id": "Bi_CgwLtv9Wi"
      }
    },
    {
      "cell_type": "markdown",
      "source": [
        "**Formula:**\n",
        ">   $\\sqrt{Q} = \\sqrt{A^2 - b} = A + \\frac{{b}}{2A} - \\frac{(\\frac{{b}}{2A})^2}{2(A + \\frac{{b}}{2A})} $\n",
        "\n",
        "**Al descomponer esta expresion:**\n",
        "> $A + \\frac{{b}}{2A} - \\frac{(\\frac{{b}}{2A})^2}{2(A + \\frac{{b}}{2A})}$  (1)\n",
        "\n",
        "**Se obtiene los componentes:**\n",
        "- $C1$ = $A$\n",
        "- $C2$ = $\\frac{{b}}{2A}$\n",
        "- $C31$ = $(\\frac{{b}}{2A})^2$ = $($C2$)^2$\n",
        "- $C32$ = ${2(A + \\frac{{b}}{2A})}$ = $2($C1$+$C2$)$\n",
        "\n",
        "**Se plantea la misma expresion (1) en terminos de componentes:**\n",
        "> $C1 + C2 -\\frac{{C31}}{C32}$ "
      ],
      "metadata": {
        "id": "q0y-q48AA2QO"
      }
    },
    {
      "cell_type": "code",
      "source": [
        "import math\n",
        "\n",
        "# Funcion para buscar el cuadrado perfecto mas cercano al numero ingresado\n",
        "def cuadradoPerfecto(num):\n",
        "  while(num > 0):\n",
        "    # Calcula la raiz y obtiene la parte decimal\n",
        "    sqrt = math.sqrt(num)\n",
        "    decimal = sqrt - math.trunc(sqrt)\n",
        "    # 0.0 es raiz perfecta, caso contrario disminuyo el numero en una unidad\n",
        "    if(decimal == 0.0):\n",
        "      break\n",
        "    num -= 1\n",
        "  return num"
      ],
      "metadata": {
        "id": "mvzp6LVl_Anp"
      },
      "execution_count": 11,
      "outputs": []
    },
    {
      "cell_type": "code",
      "source": [
        "import math\n",
        "\n",
        "# Funcion para calcular la raiz cuadrado de un numero por metodo MB\n",
        "def metodoMB(Q):\n",
        "  # Verifica si ingreso un numero negativo\n",
        "  if(Q < 0):\n",
        "    print(str(Q) + \" es un numero negativo. Se cancela la operacion\\n\")\n",
        "    return\n",
        "  # Corresponde A^2\n",
        "  A = cuadradoPerfecto(Q)\n",
        "  # Pregunta si el numero ingresado es un cuadrado perfecto\n",
        "  if(Q == A):\n",
        "    print(str(A) + \" es un numero cuadrado perfecto\\n\")\n",
        "    return\n",
        "  # Obtengo la variable 'b' y calculo la raiz cuadrada del numero ingresado por componentes\n",
        "  #\n",
        "  # Formula: A + b/(2A) - [(b/(2A))^2]/[2(A + b/(2A))]\n",
        "  #\n",
        "  b = Q - A\n",
        "  C1 = math.sqrt(A) # A\n",
        "  C2 = b/(2*(C1)) # b/(2A)\n",
        "  C31 = pow(C2, 2) # [(b/(2A))^2]\n",
        "  C32 = 2*(C1 + C2) # [2(A + b/(2A))]\n",
        "  # Junto cada componentes con respecto a la formula y obtengo el valor app. de la raiz\n",
        "  valor_formula = C1 + C2 -(C31/C32)\n",
        "  # Valor real de la raiz\n",
        "  real = math.sqrt(Q)\n",
        "  print(\"\\nValor real de \" + str(Q) + \" = \" + str(real))\n",
        "  print(\"Valor aproximado de \" + str(Q) + \" = \" + str(valor_formula))\n",
        "  # Calculo el error relativo\n",
        "  error = (abs(real - valor_formula)/real * 100)\n",
        "  print(\"Error relativo = \" + str(error) + \"%\\n\")\n",
        "\n",
        "#INICIA AQUI...\n",
        "for x in range (1,4):\n",
        "  numero = int(input(\"Iteracion n°\" + str(x) + \"\\nNumero = \"))\n",
        "  metodoMB(numero)\n"
      ],
      "metadata": {
        "colab": {
          "base_uri": "https://localhost:8080/"
        },
        "id": "YIzIcsvRv_XR",
        "outputId": "286c1a9c-ceaa-4658-e41a-ada720692765"
      },
      "execution_count": 12,
      "outputs": [
        {
          "output_type": "stream",
          "name": "stdout",
          "text": [
            "Iteracion n°1\n",
            "Numero = 6\n",
            "\n",
            "Valor real de 6 = 2.449489742783178\n",
            "Valor aproximado de 6 = 2.45\n",
            "Error relativo = 0.02083116364645512%\n",
            "\n",
            "Iteracion n°2\n",
            "Numero = 8\n",
            "\n",
            "Valor real de 8 = 2.8284271247461903\n",
            "Valor aproximado de 8 = 2.8333333333333335\n",
            "Error relativo = 0.173460668094231%\n",
            "\n",
            "Iteracion n°3\n",
            "Numero = 15\n",
            "\n",
            "Valor real de 15 = 3.872983346207417\n",
            "Valor aproximado de 15 = 3.875\n",
            "Error relativo = 0.052069777024932686%\n",
            "\n"
          ]
        }
      ]
    }
  ]
}