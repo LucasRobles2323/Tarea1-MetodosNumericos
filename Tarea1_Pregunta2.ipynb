{
  "nbformat": 4,
  "nbformat_minor": 0,
  "metadata": {
    "colab": {
      "provenance": [],
      "authorship_tag": "ABX9TyOllM8FO2/ap8MRJwUn8Tc1",
      "include_colab_link": true
    },
    "kernelspec": {
      "name": "python3",
      "display_name": "Python 3"
    },
    "language_info": {
      "name": "python"
    }
  },
  "cells": [
    {
      "cell_type": "markdown",
      "metadata": {
        "id": "view-in-github",
        "colab_type": "text"
      },
      "source": [
        "<a href=\"https://colab.research.google.com/github/LucasRobles2323/Tarea1-MetodosNumericos/blob/main/Tarea1_Pregunta2.ipynb\" target=\"_parent\"><img src=\"https://colab.research.google.com/assets/colab-badge.svg\" alt=\"Open In Colab\"/></a>"
      ]
    },
    {
      "cell_type": "markdown",
      "source": [
        "---\n",
        "PREGUNTA 2\n",
        "---\n",
        "\n",
        "El Manuscrito de Bakhshali (MB) fue descubierto por un agricultor en 1881 A.D. en Bakhshali, un pueblo cerca de Peshawar, India. Es un documento descubierto con teoremas matemáticos escritos en unas 70 cortezas de abedul. El período de la composición del MB se encuentra en el rango de 200 a 400 d.C. Un elemento de gran importancia histórica en el MB es la fórmula para el cálculo de las raíces\n",
        "cuadradas de números no cuadrados, es decir,\n",
        "\n",
        "> $\\sqrt{Q} = \\sqrt{A^2 + b} = A + \\frac{{b}}{2A} - \\frac{(\\frac{{b}}{2A})^2}{2(A + \\frac{{b}}{2A})} $\n",
        "\n",
        "donde $A^2$ es el cuadrado perfecto más cercano a $Q$. (Se tiene que encontrar de manera automática). La función debe recibir solamente el número $Q$ como parámetro y mostrar el error relativo asociado a la aproximación. Realice 3 pruebas con valores que Ud. elija y compare con el método divide y promedia\"\n",
        "(5 iteraciones).\n",
        "\n",
        "---"
      ],
      "metadata": {
        "id": "Bi_CgwLtv9Wi"
      }
    },
    {
      "cell_type": "markdown",
      "source": [
        "**Formula:**\n",
        ">   $\\sqrt{Q} = \\sqrt{A^2 - b} = A + \\frac{{b}}{2A} - \\frac{(\\frac{{b}}{2A})^2}{2(A + \\frac{{b}}{2A})} $\n",
        "\n",
        "**Al descomponer esta expresion:**\n",
        "> $A + \\frac{{b}}{2A} - \\frac{(\\frac{{b}}{2A})^2}{2(A + \\frac{{b}}{2A})}$  (1)\n",
        "\n",
        "**Se obtiene los componentes:**\n",
        "- $C1$ = $A$\n",
        "- $C2$ = $\\frac{{b}}{2A}$\n",
        "- $C31$ = $(\\frac{{b}}{2A})^2$ = $($C2$)^2$\n",
        "- $C32$ = ${2(A + \\frac{{b}}{2A})}$ = $2($C1$+$C2$)$\n",
        "\n",
        "**Se plantea la misma expresion (1) en terminos de componentes:**\n",
        "> $C1 + C2 -\\frac{{C31}}{C32}$"
      ],
      "metadata": {
        "id": "q0y-q48AA2QO"
      }
    },
    {
      "cell_type": "code",
      "source": [
        "import numpy as np\n",
        "import math\n",
        "import pandas as pd\n",
        "\n",
        "def DivideYpromedia(initial, cantMax, a):\n",
        "    I = [] # Arreglo de initial\n",
        "    Ea = [] # Arreglo de Errores aproximados\n",
        "    Eabs = [] # Arreglo de Errores absolutos\n",
        "    \n",
        "    trueValor = math.sqrt(a) # Valor real\n",
        "\n",
        "    for i in range(0, cantMax):\n",
        "      aux = initial \n",
        "\n",
        "      # Calculo de Divide y Promedia-----\n",
        "      initial = float(aux + (initial / aux)) # Calcula el numerador\n",
        "      initial = float(initial / 2) # Lo divide en 2, se completa la división\n",
        "      # ---------------------------------\n",
        "\n",
        "      print(str(initial))\n",
        "\n",
        "      # Calculo----------------------------------------------------\n",
        "       # El valor app queda como initial\n",
        "      error_relav = (trueValor - initial)/trueValor\n",
        "\n",
        "      # Llenado de arreglos\n",
        "      Ea.append(error_relav)\n",
        "      Eabs.append(abs(error_relav))\n",
        "\n",
        "      #------------------------------------------------------------\n",
        "\n",
        "      df = pd.DataFrame({'Error relativo aproximado   |': Ea,\n",
        "                         'Error relativo absoluto': Eabs })\n",
        "      \n",
        "    I.append(initial) # Arreglo de initials, para corroborar\n",
        "    return df"
      ],
      "metadata": {
        "id": "cNK6esSBaqvG"
      },
      "execution_count": 11,
      "outputs": []
    },
    {
      "cell_type": "code",
      "source": [
        "import math\n",
        "\n",
        "# Funcion para buscar el cuadrado perfecto mas cercano al numero ingresado\n",
        "def cuadradoPerfecto(num):\n",
        "  while(num > 0):\n",
        "    # Calcula la raiz y obtiene la parte decimal\n",
        "    sqrt = math.sqrt(num)\n",
        "    decimal = sqrt - math.trunc(sqrt)\n",
        "    \n",
        "    # 0.0 es raiz perfecta, caso contrario disminuyo el numero en una unidad\n",
        "    if(decimal == 0.0):\n",
        "      break\n",
        "    num -= 1\n",
        "  \n",
        "  return num"
      ],
      "metadata": {
        "id": "mvzp6LVl_Anp"
      },
      "execution_count": 8,
      "outputs": []
    },
    {
      "cell_type": "code",
      "source": [
        "import math\n",
        "\n",
        "# Funcion para calcular la raiz cuadrado de un numero por metodo MB\n",
        "def metodoMB(Q):\n",
        "  \n",
        "  # Verifica si ingreso un numero negativo\n",
        "  if(Q < 0):\n",
        "    print(str(Q) + \" es un numero negativo. Se cancela la operacion\\n\")\n",
        "    return\n",
        "  \n",
        "  # Corresponde A^2\n",
        "  A = cuadradoPerfecto(Q)\n",
        "  \n",
        "  # Pregunta si el numero ingresado es un cuadrado perfecto\n",
        "  if(Q == A):\n",
        "    print(str(A) + \" es un numero cuadrado perfecto\\n\")\n",
        "    return\n",
        "  \n",
        "  # Obtengo la variable 'b' y calculo la raiz cuadrada del numero ingresado por componentes\n",
        "  #\n",
        "  # Formula: A + b/(2A) - [(b/(2A))^2]/[2(A + b/(2A))]\n",
        "  #\n",
        "  b = Q - A\n",
        "  C1 = math.sqrt(A) # A\n",
        "  C2 = b/(2*(C1)) # b/(2A)\n",
        "  C31 = pow(C2, 2) # [(b/(2A))^2]\n",
        "  C32 = 2*(C1 + C2) # [2(A + b/(2A))]\n",
        "\n",
        "  # Junto cada componentes con respecto a la formula y obtengo el valor app. de la raiz\n",
        "  valor_formula = C1 + C2 -(C31/C32)\n",
        "  \n",
        "  # Valor real de la raiz\n",
        "  real = math.sqrt(Q)\n",
        "  print(\"\\nValor real de \" + str(Q) + \" = \" + str(real))\n",
        "  print(\"Valor aproximado de \" + str(Q) + \" = \" + str(valor_formula))\n",
        "  \n",
        "  # Calculo el error relativo\n",
        "  error = (abs(real - valor_formula)/real * 100)\n",
        "  print(\"Error relativo = \" + str(error) + \"%\\n\")\n",
        "\n",
        "  # DIVIDE Y PROMEDIA...\n",
        "  initial = Q / 2\n",
        "\n",
        "  #Cantidad requerida de iteraciones\n",
        "  cantMax = 5\n",
        "\n",
        "  df = DivideYpromedia(initial, cantMax, Q)\n",
        "\n",
        "  print (\"--------------------------------------------\")\n",
        "  print(df)\n",
        "\n",
        "# INICIA AQUI...\n",
        "for x in range (1,4):\n",
        "  numero = int(input(\"\\nIteracion n°\" + str(x) + \"\\nNumero = \"))\n",
        "  metodoMB(numero)\n"
      ],
      "metadata": {
        "colab": {
          "base_uri": "https://localhost:8080/"
        },
        "id": "YIzIcsvRv_XR",
        "outputId": "ebd7f754-f64c-4910-cd3f-626573ec5bfa"
      },
      "execution_count": 14,
      "outputs": [
        {
          "output_type": "stream",
          "name": "stdout",
          "text": [
            "\n",
            "Iteracion n°1\n",
            "Numero = 1013\n",
            "\n",
            "Valor real de 1013 = 31.827660925679098\n",
            "Valor aproximado de 1013 = 31.827662842762365\n",
            "Error relativo = 6.023324402383726e-06%\n",
            "\n",
            "253.75\n",
            "127.375\n",
            "64.1875\n",
            "32.59375\n",
            "16.796875\n",
            "--------------------------------------------\n",
            "   Error relativo aproximado   |  Error relativo absoluto\n",
            "0                      -6.972625                 6.972625\n",
            "1                      -3.002022                 3.002022\n",
            "2                      -1.016721                 1.016721\n",
            "3                      -0.024070                 0.024070\n",
            "4                       0.472255                 0.472255\n",
            "\n",
            "Iteracion n°2\n",
            "Numero = 255\n",
            "\n",
            "Valor real de 255 = 15.968719422671311\n",
            "Valor aproximado de 255 = 15.96875\n",
            "Error relativo = 0.00019148265981301128%\n",
            "\n",
            "64.25\n",
            "32.625\n",
            "16.8125\n",
            "8.90625\n",
            "4.953125\n",
            "--------------------------------------------\n",
            "   Error relativo aproximado   |  Error relativo absoluto\n",
            "0                      -3.023491                 3.023491\n",
            "1                      -1.043057                 1.043057\n",
            "2                      -0.052840                 0.052840\n",
            "3                       0.442269                 0.442269\n",
            "4                       0.689823                 0.689823\n",
            "\n",
            "Iteracion n°3\n",
            "Numero = 63\n",
            "\n",
            "Valor real de 63 = 7.937253933193772\n",
            "Valor aproximado de 63 = 7.9375\n",
            "Error relativo = 0.0031001503580324503%\n",
            "\n",
            "16.25\n",
            "8.625\n",
            "4.8125\n",
            "2.90625\n",
            "1.953125\n",
            "--------------------------------------------\n",
            "   Error relativo aproximado   |  Error relativo absoluto\n",
            "0                      -1.047308                 1.047308\n",
            "1                      -0.086648                 0.086648\n",
            "2                       0.393682                 0.393682\n",
            "3                       0.633847                 0.633847\n",
            "4                       0.753929                 0.753929\n"
          ]
        }
      ]
    },
    {
      "cell_type": "markdown",
      "source": [
        "---\n",
        "Para la comparativa de los 2 metodos para calcular raices positivos recomiendo la formula de Manuscrito de Bakhshali, porque a diferencia de \"Divide y Promedia\" es más preciso con respecto a la raiz verdadera, como evidencia el error relativo siempre tiene a ser menor magnitud o cero."
      ],
      "metadata": {
        "id": "6nALnwtdhz_K"
      }
    }
  ]
}