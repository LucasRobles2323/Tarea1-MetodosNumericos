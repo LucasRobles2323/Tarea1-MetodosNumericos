{
  "nbformat": 4,
  "nbformat_minor": 0,
  "metadata": {
    "colab": {
      "provenance": [],
      "authorship_tag": "ABX9TyNdyHDCs659JI9EcS7T+f0q",
      "include_colab_link": true
    },
    "kernelspec": {
      "name": "python3",
      "display_name": "Python 3"
    },
    "language_info": {
      "name": "python"
    }
  },
  "cells": [
    {
      "cell_type": "markdown",
      "metadata": {
        "id": "view-in-github",
        "colab_type": "text"
      },
      "source": [
        "<a href=\"https://colab.research.google.com/github/LucasRobles2323/Tareas-MetodosNumericos/blob/main/Tarea2__Pregunta2_2(lagrange).ipynb\" target=\"_parent\"><img src=\"https://colab.research.google.com/assets/colab-badge.svg\" alt=\"Open In Colab\"/></a>"
      ]
    },
    {
      "cell_type": "markdown",
      "source": [
        "Dados los puntos de la forma $(x;f(x))$ siguientes: $[(1;0) (2;5) (2.5;6.5) (3;7) (4;3) (5;1)]$. Calcule $f(3,4)$.\n",
        "\n",
        "Realice interpolación de Lagrange.\n"
      ],
      "metadata": {
        "id": "Kj2VdQw4wScb"
      }
    },
    {
      "cell_type": "code",
      "execution_count": 80,
      "metadata": {
        "id": "_I6gaZZOwRF-",
        "colab": {
          "base_uri": "https://localhost:8080/"
        },
        "outputId": "b4199f6f-c6dd-4ba1-a99b-64230a4a9113"
      },
      "outputs": [
        {
          "output_type": "stream",
          "name": "stdout",
          "text": [
            "Datos:\n",
            "      x  f(x)\n",
            "0  1.0   0.0\n",
            "1  2.0   5.0\n",
            "2  2.5   6.5\n",
            "3  3.0   7.0\n",
            "4  4.0   3.0\n",
            "5  5.0   1.0 \n",
            "\n",
            "--------------------\n",
            "orden  1 : 7.333333333333332\n",
            "--------------------\n",
            "\n",
            "--------------------\n",
            "orden  2 : 14.666666666666664\n",
            "--------------------\n",
            "\n",
            "--------------------\n",
            "orden  3 : 21.999999999999996\n",
            "--------------------\n",
            "\n"
          ]
        }
      ],
      "source": [
        "from termcolor import colored\n",
        "import pandas as pd\n",
        "\n",
        "\n",
        "def metodo(x_array,y_array,xp, orden):\n",
        "\n",
        "  yp = 0\n",
        "\n",
        "  for i in range(orden):\n",
        "      \n",
        "      p = 1\n",
        "      \n",
        "      for j in range(orden):\n",
        "          if i != j:\n",
        "              p *= (xp - x_array[j])/(x_array[i] - x_array[j])\n",
        "      yp = yp + p * y_array[i]\n",
        "  return yp \n",
        "      \n",
        "\n",
        "  \n",
        "\n",
        "def lagrange(x_array,y_array,x):\n",
        "  \n",
        "  orden = 3\n",
        "  sum = 0\n",
        "  for i in range(1,orden+1):\n",
        "      sum += metodo(x_array,y_array,x,orden)\n",
        "    \n",
        "      print(\"--------------------\")\n",
        "      print(\"orden \", i, \":\", sum)\n",
        "      print(\"--------------------\\n\")\n",
        "    \n",
        "  \n",
        "\n",
        "\n",
        "# Datos -----------------------------------------------------------\n",
        "x_array = [1,2,2.5,3,4,5]; y_array = [0,5,6.5,7,3,1]; x = 3.0; y = 4.0\n",
        "#------------------------------------------------------------------\n",
        "\n",
        "df = pd.DataFrame({'x': x_array,\n",
        "                         'f(x)': y_array })\n",
        "\n",
        "print(colored('Datos:\\n','green'),df,\"\\n\")\n",
        "\n",
        "lagrange(x_array,y_array,x)"
      ]
    }
  ]
}