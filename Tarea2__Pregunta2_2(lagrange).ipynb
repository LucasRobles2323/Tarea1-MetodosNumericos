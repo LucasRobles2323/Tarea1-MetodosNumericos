{
  "nbformat": 4,
  "nbformat_minor": 0,
  "metadata": {
    "colab": {
      "provenance": [],
      "authorship_tag": "ABX9TyN/aPkOnSzwVfIcVfzPuoX5",
      "include_colab_link": true
    },
    "kernelspec": {
      "name": "python3",
      "display_name": "Python 3"
    },
    "language_info": {
      "name": "python"
    }
  },
  "cells": [
    {
      "cell_type": "markdown",
      "metadata": {
        "id": "view-in-github",
        "colab_type": "text"
      },
      "source": [
        "<a href=\"https://colab.research.google.com/github/LucasRobles2323/Tareas-MetodosNumericos/blob/main/Tarea2__Pregunta2_2(lagrange).ipynb\" target=\"_parent\"><img src=\"https://colab.research.google.com/assets/colab-badge.svg\" alt=\"Open In Colab\"/></a>"
      ]
    },
    {
      "cell_type": "markdown",
      "source": [
        "Dados los puntos de la forma $(x;f(x))$ siguientes: $[(1;0) (2;5) (2.5;6.5) (3;7) (4;3) (5;1)]$. Calcule $f(3,4)$.\n",
        "\n",
        "Realice interpolación de Lagrange.\n"
      ],
      "metadata": {
        "id": "Kj2VdQw4wScb"
      }
    },
    {
      "cell_type": "code",
      "execution_count": 174,
      "metadata": {
        "id": "_I6gaZZOwRF-",
        "colab": {
          "base_uri": "https://localhost:8080/"
        },
        "outputId": "403dd4cf-e7ca-4a49-d2c6-e2c8270980f8"
      },
      "outputs": [
        {
          "output_type": "stream",
          "name": "stdout",
          "text": [
            "Datos:\n",
            "      x  f(x)\n",
            "0  1.0   0.0\n",
            "1  2.0   5.0\n",
            "2  2.5   6.5\n",
            "3  3.0   7.0\n",
            "4  4.0   3.0\n",
            "5  5.0   1.0 \n",
            "\n",
            "Orden 1: 12.0 \n",
            "-----------------\n",
            "Orden 2: 7.52 \n",
            "-----------------\n",
            "Orden 3: 6.5120000000000005\n"
          ]
        }
      ],
      "source": [
        "from termcolor import colored\n",
        "import pandas as pd\n",
        "import numpy\n",
        "\n",
        "\n",
        "\n",
        "def Productoria(x, arrayX, j, orden):\n",
        "    producto = 1.0\n",
        "    for i in range(orden):\n",
        "        if i != j:\n",
        "            producto *= (x-arrayX[i])\n",
        "            producto /= (arrayX[j]-arrayX[i])\n",
        "    return producto\n",
        "\n",
        "  \n",
        "\n",
        "def lagrange(x_array,y_array,x,orden):\n",
        "  sum = 0\n",
        "  for i in range(orden):\n",
        "      sum = sum + (Productoria(x, x_array, i, orden) * y_array[i])\n",
        "  return sum\n",
        "    \n",
        "  \n",
        "\n",
        "\n",
        "# Datos -----------------------------------------------------------\n",
        "x_array = [1.0,2.0,2.5,3.0,4.0,5.0]; y_array = [0.0,5.0,6.5,7.0,3.0,1.0]; x = 3.4\n",
        "#------------------------------------------------------------------\n",
        "\n",
        "df = pd.DataFrame({'x': x_array,\n",
        "                         'f(x)': y_array })\n",
        "\n",
        "print(colored('Datos:\\n','green'),df,\"\\n\")\n",
        "\n",
        "resultados = []\n",
        "orden = 3\n",
        "for i in range(orden):\n",
        "  resultados.append(lagrange(x_array,y_array,x,i+2))\n",
        "\n",
        "print(\"Orden 1:\", resultados[0],\"\\n-----------------\")\n",
        "\n",
        "print(\"Orden 2:\", resultados[1],\"\\n-----------------\")\n",
        "print(\"Orden 3:\", resultados[2])\n"
      ]
    }
  ]
}