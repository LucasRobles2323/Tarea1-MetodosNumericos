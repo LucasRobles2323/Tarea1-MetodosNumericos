{
  "nbformat": 4,
  "nbformat_minor": 0,
  "metadata": {
    "colab": {
      "provenance": [],
      "authorship_tag": "ABX9TyOz5xRNysnvlNbTJSvsIPWd",
      "include_colab_link": true
    },
    "kernelspec": {
      "name": "python3",
      "display_name": "Python 3"
    },
    "language_info": {
      "name": "python"
    }
  },
  "cells": [
    {
      "cell_type": "markdown",
      "metadata": {
        "id": "view-in-github",
        "colab_type": "text"
      },
      "source": [
        "<a href=\"https://colab.research.google.com/github/LucasRobles2323/Tareas-MetodosNumericos/blob/main/Tarea2__Pregunta2_1(newton).ipynb\" target=\"_parent\"><img src=\"https://colab.research.google.com/assets/colab-badge.svg\" alt=\"Open In Colab\"/></a>"
      ]
    },
    {
      "cell_type": "code",
      "execution_count": 36,
      "metadata": {
        "id": "UKHnGNp2sq5o"
      },
      "outputs": [],
      "source": [
        "# valores iniciales \n",
        "valores_x = [1,2,2.5,3,4,5]\n",
        "valores_y = [0,5,6.5,7,3,1]\n",
        "\n",
        "def first(valores_x, valores_y):\n",
        "  firstValues = []\n",
        "  for i in range(len(valores_x)-1):\n",
        "    value = (valores_y[i+1] - valores_y[i]) / (valores_x[i+1] - valores_x[i])\n",
        "    firstValues.append(round(value,2))\n",
        "  \n",
        "  return firstValues\n",
        "\n",
        "def second(valores_x, valores_y):\n",
        "  secondValues = [] \n",
        "  firstValues = first(valores_x, valores_y)\n",
        "  for i in range(len(firstValues)-1):\n",
        "    value = (firstValues[i+1] - firstValues[i]) / (valores_x[i+2] - valores_x[i])\n",
        "    secondValues.append(round(value,2))\n",
        "  \n",
        "  return secondValues\n",
        "\n",
        "def third(valores_x, valores_y):\n",
        "  thirdValues = []\n",
        "  secondValues = second(valores_x, valores_y)\n",
        "  for i in range(len(secondValues)-1):\n",
        "    value = (secondValues[i+1] - secondValues[i]) / (valores_x[i+3] - valores_x[i])\n",
        "    thirdValues.append(round(value,2))\n",
        "  \n",
        "  return thirdValues\n",
        "\n",
        "\n",
        "\n"
      ]
    },
    {
      "cell_type": "code",
      "source": [
        "def interpolacionNewton(x,valores_x, valores_y):\n",
        "  \n",
        "  primerOrden = first(valores_x, valores_y)\n",
        "  segundoOrden = second(valores_x, valores_y)\n",
        "  tercerOrden = third(valores_x, valores_y)\n",
        "  print(\"first:\",primerOrden)\n",
        "  print(\"second:\",segundoOrden)\n",
        "  print(\"third:\", tercerOrden)\n",
        "\n",
        "  b_1 = valores_y[0]\n",
        "  b_2 = primerOrden[0]\n",
        "  b_3 = segundoOrden[0]\n",
        "  b_4 = tercerOrden[0]\n",
        "  b_5 = (tercerOrden[1]-tercerOrden[0])/ (valores_x[len(valores_x)-1] - valores_x[0])\n",
        "\n",
        "  print(\"b1:\",b_1)\n",
        "  print(\"b2:\",b_2)\n",
        "  print(\"b3:\",b_3)\n",
        "  print(\"b4:\",b_4)\n",
        "  print(\"b5:\",b_5)\n",
        "\n",
        "\n",
        "  value = b_1 + b_2*(x - valores_x[0]) + b_3*(x - valores_x[0])*(x - valores_x[1]) + b_4 * (x - valores_x[0])*(x - valores_x[1])*(x - valores_x[2]) + b_5*(x - valores_x[0])*(x - valores_x[1])*(x - valores_x[2])*(x - valores_x[3])\n",
        "\n",
        "  return value"
      ],
      "metadata": {
        "id": "DOhJEgjh8V7l"
      },
      "execution_count": 39,
      "outputs": []
    },
    {
      "cell_type": "code",
      "source": [
        "interpolacionNewton(3,valores_x,valores_y)"
      ],
      "metadata": {
        "colab": {
          "base_uri": "https://localhost:8080/"
        },
        "id": "zDpiuzUZLrtx",
        "outputId": "0d432dd9-6016-463a-ff47-3639971831e8"
      },
      "execution_count": 40,
      "outputs": [
        {
          "output_type": "stream",
          "name": "stdout",
          "text": [
            "first: [5.0, 3.0, 1.0, -4.0, -2.0]\n",
            "second: [-1.33, -2.0, -3.33, 1.0]\n",
            "third: [-0.33, -0.67, 1.73]\n",
            "b1: 0\n",
            "b2: 5.0\n",
            "b3: -1.33\n",
            "b4: -0.33\n",
            "b5: -0.085\n"
          ]
        },
        {
          "output_type": "execute_result",
          "data": {
            "text/plain": [
              "7.01"
            ]
          },
          "metadata": {},
          "execution_count": 40
        }
      ]
    },
    {
      "cell_type": "code",
      "source": [],
      "metadata": {
        "id": "F8Gn7xHcQ2fI"
      },
      "execution_count": null,
      "outputs": []
    }
  ]
}